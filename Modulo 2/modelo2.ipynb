{
 "cells": [
  {
   "cell_type": "code",
   "execution_count": 7,
   "metadata": {},
   "outputs": [
    {
     "name": "stdout",
     "output_type": "stream",
     "text": [
      "Populating the interactive namespace from numpy and matplotlib\n"
     ]
    }
   ],
   "source": [
    "import pandas as pd\n",
    "import numpy as np\n",
    "import re\n",
    "import time\n",
    "\n",
    "import bs4 as bs4\n",
    "import json\n",
    "\n",
    "import glob\n",
    "import tqdm\n",
    "\n",
    "pd.set_option(\"max.columns\", 131)\n",
    "\n",
    "#https://strftime.org/\n",
    "%matplotlib inline\n",
    "%pylab inline"
   ]
  },
  {
   "cell_type": "code",
   "execution_count": 8,
   "metadata": {},
   "outputs": [
    {
     "data": {
      "text/plain": [
       "(498, 16)"
      ]
     },
     "execution_count": 8,
     "metadata": {},
     "output_type": "execute_result"
    }
   ],
   "source": [
    "df = pd.read_csv(\"raw_data_with_labels.csv\", index_col=0)\n",
    "df = df[df['y'].notnull()]\n",
    "df.shape"
   ]
  },
  {
   "cell_type": "code",
   "execution_count": 9,
   "metadata": {},
   "outputs": [],
   "source": [
    "from sklearn.linear_model import LogisticRegression\n",
    "from sklearn.ensemble import RandomForestClassifier"
   ]
  },
  {
   "cell_type": "code",
   "execution_count": 10,
   "metadata": {},
   "outputs": [],
   "source": [
    "df_limpo = pd.DataFrame(index=df.index)\n",
    "df_limpo['title'] = df['watch-title']"
   ]
  },
  {
   "cell_type": "markdown",
   "metadata": {},
   "source": [
    "## 1. Limpeza da data"
   ]
  },
  {
   "cell_type": "code",
   "execution_count": 11,
   "metadata": {},
   "outputs": [],
   "source": [
    "clean_date = df['watch-time-text'].str.extract(r\"(\\d+) de ([a-z]+)\\. de (\\d+)\")\n",
    "clean_date[0] = clean_date[0].map(lambda x: \"0\"+x[0] if len(x) == 1 else x)\n",
    "#clean_date[1] = clean_date[1].map(lambda x: x[0].upper()+x[1:])\n",
    "\n",
    "mapa_meses = {\"jan\": \"Jan\",\n",
    "              \"fev\": \"Feb\",\n",
    "              \"mar\": \"Mar\", \n",
    "              \"abr\": \"Apr\", \n",
    "              \"mai\": \"May\", \n",
    "              \"jun\": \"Jun\",\n",
    "              \"jul\": \"Jul\",\n",
    "              \"ago\": \"Aug\", \n",
    "              \"set\": \"Sep\", \n",
    "              \"out\": \"Oct\", \n",
    "              \"nov\": \"Nov\",\n",
    "              \"dez\": \"Dec\"}\n",
    "\n",
    "clean_date[1] = clean_date[1].map(mapa_meses)\n",
    "\n",
    "clean_date = clean_date.apply(lambda x: \" \".join(x), axis=1)\n",
    "clean_date.head()\n",
    "df_limpo['date'] = pd.to_datetime(clean_date, format=\"%d %b %Y\")"
   ]
  },
  {
   "cell_type": "markdown",
   "metadata": {},
   "source": [
    "## 2. Limpeza de Views"
   ]
  },
  {
   "cell_type": "code",
   "execution_count": 12,
   "metadata": {},
   "outputs": [],
   "source": [
    "views = df['watch-view-count'].str.extract(r\"(\\d+\\.?\\d*)\", expand=False).str.replace(\".\", \"\").fillna(0).astype(int)\n",
    "df_limpo['views'] = views"
   ]
  },
  {
   "cell_type": "markdown",
   "metadata": {},
   "source": [
    "## 3. Features"
   ]
  },
  {
   "cell_type": "code",
   "execution_count": 13,
   "metadata": {},
   "outputs": [],
   "source": [
    "features = pd.DataFrame(index=df_limpo.index)\n",
    "y = df['y'].copy()"
   ]
  },
  {
   "cell_type": "code",
   "execution_count": 14,
   "metadata": {},
   "outputs": [],
   "source": [
    "features['tempo_desde_pub'] = (pd.to_datetime(\"2019-12-03\") - df_limpo['date']) / np.timedelta64(1, 'D')\n",
    "features['views'] = df_limpo['views']\n",
    "features['views_por_dia'] = features['views'] / features['tempo_desde_pub']\n",
    "features = features.drop(['tempo_desde_pub'], axis=1)"
   ]
  },
  {
   "cell_type": "code",
   "execution_count": 15,
   "metadata": {},
   "outputs": [
    {
     "data": {
      "text/html": [
       "<div>\n",
       "<style scoped>\n",
       "    .dataframe tbody tr th:only-of-type {\n",
       "        vertical-align: middle;\n",
       "    }\n",
       "\n",
       "    .dataframe tbody tr th {\n",
       "        vertical-align: top;\n",
       "    }\n",
       "\n",
       "    .dataframe thead th {\n",
       "        text-align: right;\n",
       "    }\n",
       "</style>\n",
       "<table border=\"1\" class=\"dataframe\">\n",
       "  <thead>\n",
       "    <tr style=\"text-align: right;\">\n",
       "      <th></th>\n",
       "      <th>views</th>\n",
       "      <th>views_por_dia</th>\n",
       "    </tr>\n",
       "  </thead>\n",
       "  <tbody>\n",
       "    <tr>\n",
       "      <th>0</th>\n",
       "      <td>28028</td>\n",
       "      <td>61.464912</td>\n",
       "    </tr>\n",
       "    <tr>\n",
       "      <th>1</th>\n",
       "      <td>1131</td>\n",
       "      <td>2.960733</td>\n",
       "    </tr>\n",
       "    <tr>\n",
       "      <th>2</th>\n",
       "      <td>1816</td>\n",
       "      <td>8.446512</td>\n",
       "    </tr>\n",
       "    <tr>\n",
       "      <th>3</th>\n",
       "      <td>1171</td>\n",
       "      <td>10.455357</td>\n",
       "    </tr>\n",
       "    <tr>\n",
       "      <th>4</th>\n",
       "      <td>1228</td>\n",
       "      <td>3.336957</td>\n",
       "    </tr>\n",
       "  </tbody>\n",
       "</table>\n",
       "</div>"
      ],
      "text/plain": [
       "   views  views_por_dia\n",
       "0  28028      61.464912\n",
       "1   1131       2.960733\n",
       "2   1816       8.446512\n",
       "3   1171      10.455357\n",
       "4   1228       3.336957"
      ]
     },
     "execution_count": 15,
     "metadata": {},
     "output_type": "execute_result"
    }
   ],
   "source": [
    "features.head()"
   ]
  },
  {
   "cell_type": "code",
   "execution_count": 16,
   "metadata": {},
   "outputs": [
    {
     "data": {
      "text/plain": [
       "((228, 2), (270, 2), (228,), (270,))"
      ]
     },
     "execution_count": 16,
     "metadata": {},
     "output_type": "execute_result"
    }
   ],
   "source": [
    "mask_train = df_limpo['date'] < \"2019-04-01\"\n",
    "mask_val = df_limpo['date'] >= \"2019-04-01\"\n",
    "\n",
    "Xtrain, Xval = features[mask_train], features[mask_val]\n",
    "ytrain, yval = y[mask_train], y[mask_val]\n",
    "Xtrain.shape, Xval.shape, ytrain.shape, yval.shape"
   ]
  },
  {
   "cell_type": "code",
   "execution_count": 17,
   "metadata": {},
   "outputs": [],
   "source": [
    "from sklearn.feature_extraction.text import TfidfVectorizer\n",
    "\n",
    "title_train = df_limpo[mask_train]['title']\n",
    "title_val = df_limpo[mask_val]['title']\n",
    "\n",
    "title_vec = TfidfVectorizer(min_df=2)\n",
    "title_bow_train = title_vec.fit_transform(title_train)\n",
    "title_bow_val = title_vec.transform(title_val)\n"
   ]
  },
  {
   "cell_type": "code",
   "execution_count": 18,
   "metadata": {},
   "outputs": [
    {
     "data": {
      "text/plain": [
       "(228, 193)"
      ]
     },
     "execution_count": 18,
     "metadata": {},
     "output_type": "execute_result"
    }
   ],
   "source": [
    "title_bow_train.shape"
   ]
  },
  {
   "cell_type": "code",
   "execution_count": 19,
   "metadata": {},
   "outputs": [
    {
     "data": {
      "text/plain": [
       "0.9709799109171894"
      ]
     },
     "execution_count": 19,
     "metadata": {},
     "output_type": "execute_result"
    }
   ],
   "source": [
    "1 - 1277/(228*193)"
   ]
  },
  {
   "cell_type": "code",
   "execution_count": 20,
   "metadata": {},
   "outputs": [
    {
     "data": {
      "text/plain": [
       "<228x193 sparse matrix of type '<class 'numpy.float64'>'\n",
       "\twith 1277 stored elements in Compressed Sparse Row format>"
      ]
     },
     "execution_count": 20,
     "metadata": {},
     "output_type": "execute_result"
    }
   ],
   "source": [
    "title_bow_train"
   ]
  },
  {
   "cell_type": "code",
   "execution_count": null,
   "metadata": {},
   "outputs": [],
   "source": [
    "hstack - [1 2]     [3 4]   -> [1 2 3 4] - 1x4\n",
    "\n",
    "vstack - [1 2]     [3 4]   -> [1 2]\n",
    "                              [3 4] - 2x2"
   ]
  },
  {
   "cell_type": "code",
   "execution_count": 30,
   "metadata": {},
   "outputs": [],
   "source": [
    "from scipy.sparse import hstack, vstack\n",
    "\n",
    "Xtrain_wtitle = hstack([Xtrain, title_bow_train])\n",
    "Xval_wtitle = hstack([Xval, title_bow_val])"
   ]
  },
  {
   "cell_type": "code",
   "execution_count": 31,
   "metadata": {},
   "outputs": [
    {
     "data": {
      "text/plain": [
       "((228, 195), (270, 195))"
      ]
     },
     "execution_count": 31,
     "metadata": {},
     "output_type": "execute_result"
    }
   ],
   "source": [
    "Xtrain_wtitle.shape, Xval_wtitle.shape"
   ]
  },
  {
   "cell_type": "code",
   "execution_count": 32,
   "metadata": {},
   "outputs": [
    {
     "data": {
      "text/plain": [
       "RandomForestClassifier(bootstrap=True, ccp_alpha=0.0, class_weight='balanced',\n",
       "                       criterion='gini', max_depth=None, max_features='auto',\n",
       "                       max_leaf_nodes=None, max_samples=None,\n",
       "                       min_impurity_decrease=0.0, min_impurity_split=None,\n",
       "                       min_samples_leaf=1, min_samples_split=2,\n",
       "                       min_weight_fraction_leaf=0.0, n_estimators=1000,\n",
       "                       n_jobs=6, oob_score=False, random_state=0, verbose=0,\n",
       "                       warm_start=False)"
      ]
     },
     "execution_count": 32,
     "metadata": {},
     "output_type": "execute_result"
    }
   ],
   "source": [
    "mdl = RandomForestClassifier(n_estimators=1000, random_state=0, class_weight=\"balanced\", n_jobs=6)\n",
    "mdl.fit(Xtrain_wtitle, ytrain)"
   ]
  },
  {
   "cell_type": "code",
   "execution_count": 33,
   "metadata": {},
   "outputs": [],
   "source": [
    "p = mdl.predict_proba(Xval_wtitle)[:, 1]"
   ]
  },
  {
   "cell_type": "code",
   "execution_count": 34,
   "metadata": {},
   "outputs": [],
   "source": [
    "from sklearn.metrics import roc_auc_score, average_precision_score"
   ]
  },
  {
   "cell_type": "code",
   "execution_count": 35,
   "metadata": {},
   "outputs": [
    {
     "data": {
      "text/plain": [
       "0.1918043901336543"
      ]
     },
     "execution_count": 35,
     "metadata": {},
     "output_type": "execute_result"
    }
   ],
   "source": [
    "average_precision_score(yval, p)"
   ]
  },
  {
   "cell_type": "code",
   "execution_count": 36,
   "metadata": {},
   "outputs": [
    {
     "data": {
      "text/plain": [
       "0.5848024316109421"
      ]
     },
     "execution_count": 36,
     "metadata": {},
     "output_type": "execute_result"
    }
   ],
   "source": [
    "roc_auc_score(yval, p)"
   ]
  },
  {
   "cell_type": "code",
   "execution_count": null,
   "metadata": {},
   "outputs": [],
   "source": [
    "ap 0.17683995211083103, auc 0.6036474164133738 - mindf=1\n",
    "ap 0.1918043901336543, auc 0.5848024316109421 - mindf=2"
   ]
  },
  {
   "cell_type": "markdown",
   "metadata": {},
   "source": [
    "# 5 Active learning"
   ]
  },
  {
   "cell_type": "markdown",
   "metadata": {},
   "source": [
    "70 exemplos que o modelo tenha dificuldade\n",
    "30 exemplos aleatoriamente"
   ]
  },
  {
   "cell_type": "code",
   "execution_count": 38,
   "metadata": {},
   "outputs": [
    {
     "data": {
      "text/plain": [
       "(674, 16)"
      ]
     },
     "execution_count": 38,
     "metadata": {},
     "output_type": "execute_result"
    }
   ],
   "source": [
    "df_unlabeled = pd.read_csv(\"raw_data_with_labels.csv\", index_col=0)\n",
    "df_unlabeled = df_unlabeled[df_unlabeled['y'].isnull()].dropna(how='all')\n",
    "df_unlabeled.shape"
   ]
  },
  {
   "cell_type": "code",
   "execution_count": 39,
   "metadata": {},
   "outputs": [
    {
     "data": {
      "text/html": [
       "<div>\n",
       "<style scoped>\n",
       "    .dataframe tbody tr th:only-of-type {\n",
       "        vertical-align: middle;\n",
       "    }\n",
       "\n",
       "    .dataframe tbody tr th {\n",
       "        vertical-align: top;\n",
       "    }\n",
       "\n",
       "    .dataframe thead th {\n",
       "        text-align: right;\n",
       "    }\n",
       "</style>\n",
       "<table border=\"1\" class=\"dataframe\">\n",
       "  <thead>\n",
       "    <tr style=\"text-align: right;\">\n",
       "      <th></th>\n",
       "      <th>watch-title</th>\n",
       "      <th>y</th>\n",
       "      <th>watch-view-count</th>\n",
       "      <th>watch-time-text</th>\n",
       "      <th>content_watch-info-tag-list</th>\n",
       "      <th>watch7-headline</th>\n",
       "      <th>watch7-user-header</th>\n",
       "      <th>watch8-sentiment-actions</th>\n",
       "      <th>og:image</th>\n",
       "      <th>og:image:width</th>\n",
       "      <th>og:image:height</th>\n",
       "      <th>og:description</th>\n",
       "      <th>og:video:width</th>\n",
       "      <th>og:video:height</th>\n",
       "      <th>og:video:tag</th>\n",
       "      <th>channel_link_0</th>\n",
       "    </tr>\n",
       "  </thead>\n",
       "  <tbody>\n",
       "    <tr>\n",
       "      <th>501</th>\n",
       "      <td>Kaggle Mercari Price Suggestion Challenge (1 p...</td>\n",
       "      <td>NaN</td>\n",
       "      <td>2.167 visualizações</td>\n",
       "      <td>Publicado em 2 de nov. de 2018</td>\n",
       "      <td>Educação</td>\n",
       "      <td>Kaggle Mercari Price Suggestion Challenge (1 p...</td>\n",
       "      <td>ML Trainings\\n\\n\\n\\n\\n\\n\\n\\n\\n\\n\\n\\n\\n\\nCarreg...</td>\n",
       "      <td>2.167 visualizações\\n\\n\\n\\n\\n\\n\\n\\n61\\n\\nGosto...</td>\n",
       "      <td>https://i.ytimg.com/vi/QFR0IHbzA30/maxresdefau...</td>\n",
       "      <td>1280.0</td>\n",
       "      <td>720.0</td>\n",
       "      <td>Pawel Jankiewicz and Konstantin Lopuhin share ...</td>\n",
       "      <td>1280.0</td>\n",
       "      <td>720.0</td>\n",
       "      <td>price suggestion</td>\n",
       "      <td>/channel/UCeq6ZIlvC9SVsfhfKnSvM9w</td>\n",
       "    </tr>\n",
       "  </tbody>\n",
       "</table>\n",
       "</div>"
      ],
      "text/plain": [
       "                                           watch-title   y  \\\n",
       "501  Kaggle Mercari Price Suggestion Challenge (1 p... NaN   \n",
       "\n",
       "        watch-view-count                 watch-time-text  \\\n",
       "501  2.167 visualizações  Publicado em 2 de nov. de 2018   \n",
       "\n",
       "    content_watch-info-tag-list  \\\n",
       "501                    Educação   \n",
       "\n",
       "                                       watch7-headline  \\\n",
       "501  Kaggle Mercari Price Suggestion Challenge (1 p...   \n",
       "\n",
       "                                    watch7-user-header  \\\n",
       "501  ML Trainings\\n\\n\\n\\n\\n\\n\\n\\n\\n\\n\\n\\n\\n\\nCarreg...   \n",
       "\n",
       "                              watch8-sentiment-actions  \\\n",
       "501  2.167 visualizações\\n\\n\\n\\n\\n\\n\\n\\n61\\n\\nGosto...   \n",
       "\n",
       "                                              og:image  og:image:width  \\\n",
       "501  https://i.ytimg.com/vi/QFR0IHbzA30/maxresdefau...          1280.0   \n",
       "\n",
       "     og:image:height                                     og:description  \\\n",
       "501            720.0  Pawel Jankiewicz and Konstantin Lopuhin share ...   \n",
       "\n",
       "     og:video:width  og:video:height      og:video:tag  \\\n",
       "501          1280.0            720.0  price suggestion   \n",
       "\n",
       "                        channel_link_0  \n",
       "501  /channel/UCeq6ZIlvC9SVsfhfKnSvM9w  "
      ]
     },
     "execution_count": 39,
     "metadata": {},
     "output_type": "execute_result"
    }
   ],
   "source": [
    "df_unlabeled.head(1)"
   ]
  },
  {
   "cell_type": "code",
   "execution_count": 40,
   "metadata": {},
   "outputs": [],
   "source": [
    "df_limpo_u = pd.DataFrame(index=df_unlabeled.index)\n",
    "df_limpo_u['title'] = df_unlabeled['watch-title']"
   ]
  },
  {
   "cell_type": "code",
   "execution_count": 41,
   "metadata": {},
   "outputs": [],
   "source": [
    "clean_date = df_unlabeled['watch-time-text'].str.extract(r\"(\\d+) de ([a-z]+)\\. de (\\d+)\")\n",
    "clean_date[0] = clean_date[0].map(lambda x: \"0\"+x[0] if len(x) == 1 else x)\n",
    "#clean_date[1] = clean_date[1].map(lambda x: x[0].upper()+x[1:])\n",
    "\n",
    "mapa_meses = {\"jan\": \"Jan\",\n",
    "              \"fev\": \"Feb\",\n",
    "              \"mar\": \"Mar\", \n",
    "              \"abr\": \"Apr\", \n",
    "              \"mai\": \"May\", \n",
    "              \"jun\": \"Jun\",\n",
    "              \"jul\": \"Jul\",\n",
    "              \"ago\": \"Aug\", \n",
    "              \"set\": \"Sep\", \n",
    "              \"out\": \"Oct\", \n",
    "              \"nov\": \"Nov\",\n",
    "              \"dez\": \"Dec\"}\n",
    "\n",
    "clean_date[1] = clean_date[1].map(mapa_meses)\n",
    "\n",
    "clean_date = clean_date.apply(lambda x: \" \".join(x), axis=1)\n",
    "clean_date.head()\n",
    "df_limpo_u['date'] = pd.to_datetime(clean_date, format=\"%d %b %Y\")"
   ]
  },
  {
   "cell_type": "code",
   "execution_count": 42,
   "metadata": {},
   "outputs": [
    {
     "data": {
      "text/html": [
       "<div>\n",
       "<style scoped>\n",
       "    .dataframe tbody tr th:only-of-type {\n",
       "        vertical-align: middle;\n",
       "    }\n",
       "\n",
       "    .dataframe tbody tr th {\n",
       "        vertical-align: top;\n",
       "    }\n",
       "\n",
       "    .dataframe thead th {\n",
       "        text-align: right;\n",
       "    }\n",
       "</style>\n",
       "<table border=\"1\" class=\"dataframe\">\n",
       "  <thead>\n",
       "    <tr style=\"text-align: right;\">\n",
       "      <th></th>\n",
       "      <th>title</th>\n",
       "      <th>date</th>\n",
       "    </tr>\n",
       "  </thead>\n",
       "  <tbody>\n",
       "    <tr>\n",
       "      <th>501</th>\n",
       "      <td>Kaggle Mercari Price Suggestion Challenge (1 p...</td>\n",
       "      <td>2018-11-02</td>\n",
       "    </tr>\n",
       "    <tr>\n",
       "      <th>502</th>\n",
       "      <td>OpenAI Gym and Python for Q-learning - Reinfor...</td>\n",
       "      <td>2018-10-14</td>\n",
       "    </tr>\n",
       "    <tr>\n",
       "      <th>503</th>\n",
       "      <td>Dashboarding with Notebooks, Day 1: What infor...</td>\n",
       "      <td>2018-12-17</td>\n",
       "    </tr>\n",
       "    <tr>\n",
       "      <th>504</th>\n",
       "      <td>How To Get US- American Company H1 Visa To Get...</td>\n",
       "      <td>2019-11-23</td>\n",
       "    </tr>\n",
       "    <tr>\n",
       "      <th>505</th>\n",
       "      <td>Platform Overview - Machine Learning</td>\n",
       "      <td>2019-05-21</td>\n",
       "    </tr>\n",
       "  </tbody>\n",
       "</table>\n",
       "</div>"
      ],
      "text/plain": [
       "                                                 title       date\n",
       "501  Kaggle Mercari Price Suggestion Challenge (1 p... 2018-11-02\n",
       "502  OpenAI Gym and Python for Q-learning - Reinfor... 2018-10-14\n",
       "503  Dashboarding with Notebooks, Day 1: What infor... 2018-12-17\n",
       "504  How To Get US- American Company H1 Visa To Get... 2019-11-23\n",
       "505               Platform Overview - Machine Learning 2019-05-21"
      ]
     },
     "execution_count": 42,
     "metadata": {},
     "output_type": "execute_result"
    }
   ],
   "source": [
    "df_limpo_u.head()"
   ]
  },
  {
   "cell_type": "code",
   "execution_count": 43,
   "metadata": {},
   "outputs": [],
   "source": [
    "views = df_unlabeled['watch-view-count'].str.extract(r\"(\\d+\\.?\\d*)\", expand=False).str.replace(\".\", \"\").fillna(0).astype(int)\n",
    "df_limpo_u['views'] = views"
   ]
  },
  {
   "cell_type": "code",
   "execution_count": 44,
   "metadata": {},
   "outputs": [],
   "source": [
    "features_u = pd.DataFrame(index=df_limpo_u.index)"
   ]
  },
  {
   "cell_type": "code",
   "execution_count": 45,
   "metadata": {},
   "outputs": [],
   "source": [
    "features_u['tempo_desde_pub'] = (pd.to_datetime(\"2019-12-03\") - df_limpo_u['date']) / np.timedelta64(1, 'D')\n",
    "features_u['views'] = df_limpo_u['views']\n",
    "features_u['views_por_dia'] = features_u['views'] / features_u['tempo_desde_pub']\n",
    "features_u = features_u.drop(['tempo_desde_pub'], axis=1)"
   ]
  },
  {
   "cell_type": "code",
   "execution_count": 46,
   "metadata": {},
   "outputs": [
    {
     "data": {
      "text/html": [
       "<div>\n",
       "<style scoped>\n",
       "    .dataframe tbody tr th:only-of-type {\n",
       "        vertical-align: middle;\n",
       "    }\n",
       "\n",
       "    .dataframe tbody tr th {\n",
       "        vertical-align: top;\n",
       "    }\n",
       "\n",
       "    .dataframe thead th {\n",
       "        text-align: right;\n",
       "    }\n",
       "</style>\n",
       "<table border=\"1\" class=\"dataframe\">\n",
       "  <thead>\n",
       "    <tr style=\"text-align: right;\">\n",
       "      <th></th>\n",
       "      <th>views</th>\n",
       "      <th>views_por_dia</th>\n",
       "    </tr>\n",
       "  </thead>\n",
       "  <tbody>\n",
       "    <tr>\n",
       "      <th>501</th>\n",
       "      <td>2167</td>\n",
       "      <td>5.472222</td>\n",
       "    </tr>\n",
       "    <tr>\n",
       "      <th>502</th>\n",
       "      <td>20378</td>\n",
       "      <td>49.103614</td>\n",
       "    </tr>\n",
       "    <tr>\n",
       "      <th>503</th>\n",
       "      <td>10435</td>\n",
       "      <td>29.729345</td>\n",
       "    </tr>\n",
       "    <tr>\n",
       "      <th>504</th>\n",
       "      <td>7</td>\n",
       "      <td>0.700000</td>\n",
       "    </tr>\n",
       "    <tr>\n",
       "      <th>505</th>\n",
       "      <td>4298</td>\n",
       "      <td>21.928571</td>\n",
       "    </tr>\n",
       "  </tbody>\n",
       "</table>\n",
       "</div>"
      ],
      "text/plain": [
       "     views  views_por_dia\n",
       "501   2167       5.472222\n",
       "502  20378      49.103614\n",
       "503  10435      29.729345\n",
       "504      7       0.700000\n",
       "505   4298      21.928571"
      ]
     },
     "execution_count": 46,
     "metadata": {},
     "output_type": "execute_result"
    }
   ],
   "source": [
    "features_u.head()"
   ]
  },
  {
   "cell_type": "code",
   "execution_count": 47,
   "metadata": {},
   "outputs": [],
   "source": [
    "from sklearn.feature_extraction.text import TfidfVectorizer\n",
    "\n",
    "title_u = df_limpo_u['title']\n",
    "title_bow_u = title_vec.transform(title_u)\n"
   ]
  },
  {
   "cell_type": "code",
   "execution_count": 48,
   "metadata": {},
   "outputs": [
    {
     "data": {
      "text/plain": [
       "<674x193 sparse matrix of type '<class 'numpy.float64'>'\n",
       "\twith 3079 stored elements in Compressed Sparse Row format>"
      ]
     },
     "execution_count": 48,
     "metadata": {},
     "output_type": "execute_result"
    }
   ],
   "source": [
    "title_bow_u"
   ]
  },
  {
   "cell_type": "code",
   "execution_count": 49,
   "metadata": {},
   "outputs": [],
   "source": [
    "Xu_wtitle = hstack([features_u, title_bow_u])"
   ]
  },
  {
   "cell_type": "code",
   "execution_count": 50,
   "metadata": {},
   "outputs": [
    {
     "data": {
      "text/plain": [
       "<674x195 sparse matrix of type '<class 'numpy.float64'>'\n",
       "\twith 4409 stored elements in COOrdinate format>"
      ]
     },
     "execution_count": 50,
     "metadata": {},
     "output_type": "execute_result"
    }
   ],
   "source": [
    "Xu_wtitle"
   ]
  },
  {
   "cell_type": "code",
   "execution_count": 51,
   "metadata": {},
   "outputs": [],
   "source": [
    "pu = mdl.predict_proba(Xu_wtitle)[:, 1]"
   ]
  },
  {
   "cell_type": "code",
   "execution_count": 52,
   "metadata": {},
   "outputs": [],
   "source": [
    "df_unlabeled['p'] = pu"
   ]
  },
  {
   "cell_type": "code",
   "execution_count": 53,
   "metadata": {},
   "outputs": [
    {
     "data": {
      "text/html": [
       "<div>\n",
       "<style scoped>\n",
       "    .dataframe tbody tr th:only-of-type {\n",
       "        vertical-align: middle;\n",
       "    }\n",
       "\n",
       "    .dataframe tbody tr th {\n",
       "        vertical-align: top;\n",
       "    }\n",
       "\n",
       "    .dataframe thead th {\n",
       "        text-align: right;\n",
       "    }\n",
       "</style>\n",
       "<table border=\"1\" class=\"dataframe\">\n",
       "  <thead>\n",
       "    <tr style=\"text-align: right;\">\n",
       "      <th></th>\n",
       "      <th>watch-title</th>\n",
       "      <th>y</th>\n",
       "      <th>watch-view-count</th>\n",
       "      <th>watch-time-text</th>\n",
       "      <th>content_watch-info-tag-list</th>\n",
       "      <th>watch7-headline</th>\n",
       "      <th>watch7-user-header</th>\n",
       "      <th>watch8-sentiment-actions</th>\n",
       "      <th>og:image</th>\n",
       "      <th>og:image:width</th>\n",
       "      <th>og:image:height</th>\n",
       "      <th>og:description</th>\n",
       "      <th>og:video:width</th>\n",
       "      <th>og:video:height</th>\n",
       "      <th>og:video:tag</th>\n",
       "      <th>channel_link_0</th>\n",
       "      <th>p</th>\n",
       "    </tr>\n",
       "  </thead>\n",
       "  <tbody>\n",
       "    <tr>\n",
       "      <th>501</th>\n",
       "      <td>Kaggle Mercari Price Suggestion Challenge (1 p...</td>\n",
       "      <td>NaN</td>\n",
       "      <td>2.167 visualizações</td>\n",
       "      <td>Publicado em 2 de nov. de 2018</td>\n",
       "      <td>Educação</td>\n",
       "      <td>Kaggle Mercari Price Suggestion Challenge (1 p...</td>\n",
       "      <td>ML Trainings\\n\\n\\n\\n\\n\\n\\n\\n\\n\\n\\n\\n\\n\\nCarreg...</td>\n",
       "      <td>2.167 visualizações\\n\\n\\n\\n\\n\\n\\n\\n61\\n\\nGosto...</td>\n",
       "      <td>https://i.ytimg.com/vi/QFR0IHbzA30/maxresdefau...</td>\n",
       "      <td>1280.0</td>\n",
       "      <td>720.0</td>\n",
       "      <td>Pawel Jankiewicz and Konstantin Lopuhin share ...</td>\n",
       "      <td>1280.0</td>\n",
       "      <td>720.0</td>\n",
       "      <td>price suggestion</td>\n",
       "      <td>/channel/UCeq6ZIlvC9SVsfhfKnSvM9w</td>\n",
       "      <td>0.093</td>\n",
       "    </tr>\n",
       "  </tbody>\n",
       "</table>\n",
       "</div>"
      ],
      "text/plain": [
       "                                           watch-title   y  \\\n",
       "501  Kaggle Mercari Price Suggestion Challenge (1 p... NaN   \n",
       "\n",
       "        watch-view-count                 watch-time-text  \\\n",
       "501  2.167 visualizações  Publicado em 2 de nov. de 2018   \n",
       "\n",
       "    content_watch-info-tag-list  \\\n",
       "501                    Educação   \n",
       "\n",
       "                                       watch7-headline  \\\n",
       "501  Kaggle Mercari Price Suggestion Challenge (1 p...   \n",
       "\n",
       "                                    watch7-user-header  \\\n",
       "501  ML Trainings\\n\\n\\n\\n\\n\\n\\n\\n\\n\\n\\n\\n\\n\\nCarreg...   \n",
       "\n",
       "                              watch8-sentiment-actions  \\\n",
       "501  2.167 visualizações\\n\\n\\n\\n\\n\\n\\n\\n61\\n\\nGosto...   \n",
       "\n",
       "                                              og:image  og:image:width  \\\n",
       "501  https://i.ytimg.com/vi/QFR0IHbzA30/maxresdefau...          1280.0   \n",
       "\n",
       "     og:image:height                                     og:description  \\\n",
       "501            720.0  Pawel Jankiewicz and Konstantin Lopuhin share ...   \n",
       "\n",
       "     og:video:width  og:video:height      og:video:tag  \\\n",
       "501          1280.0            720.0  price suggestion   \n",
       "\n",
       "                        channel_link_0      p  \n",
       "501  /channel/UCeq6ZIlvC9SVsfhfKnSvM9w  0.093  "
      ]
     },
     "execution_count": 53,
     "metadata": {},
     "output_type": "execute_result"
    }
   ],
   "source": [
    "df_unlabeled.head(1)"
   ]
  },
  {
   "cell_type": "code",
   "execution_count": 54,
   "metadata": {},
   "outputs": [
    {
     "data": {
      "text/plain": [
       "69"
      ]
     },
     "execution_count": 54,
     "metadata": {},
     "output_type": "execute_result"
    }
   ],
   "source": [
    "mask_u = (df_unlabeled['p'] >= 0.26) & (df_unlabeled['p'] <= 1.)\n",
    "mask_u.sum()"
   ]
  },
  {
   "cell_type": "code",
   "execution_count": 55,
   "metadata": {},
   "outputs": [
    {
     "data": {
      "text/plain": [
       "501     False\n",
       "502     False\n",
       "503     False\n",
       "504     False\n",
       "505      True\n",
       "        ...  \n",
       "1179    False\n",
       "1180    False\n",
       "1181    False\n",
       "1182    False\n",
       "1183    False\n",
       "Name: p, Length: 674, dtype: bool"
      ]
     },
     "execution_count": 55,
     "metadata": {},
     "output_type": "execute_result"
    }
   ],
   "source": [
    "mask_u"
   ]
  },
  {
   "cell_type": "code",
   "execution_count": 56,
   "metadata": {},
   "outputs": [
    {
     "data": {
      "text/html": [
       "<div>\n",
       "<style scoped>\n",
       "    .dataframe tbody tr th:only-of-type {\n",
       "        vertical-align: middle;\n",
       "    }\n",
       "\n",
       "    .dataframe tbody tr th {\n",
       "        vertical-align: top;\n",
       "    }\n",
       "\n",
       "    .dataframe thead th {\n",
       "        text-align: right;\n",
       "    }\n",
       "</style>\n",
       "<table border=\"1\" class=\"dataframe\">\n",
       "  <thead>\n",
       "    <tr style=\"text-align: right;\">\n",
       "      <th></th>\n",
       "      <th>watch-title</th>\n",
       "      <th>y</th>\n",
       "      <th>watch-view-count</th>\n",
       "      <th>watch-time-text</th>\n",
       "      <th>content_watch-info-tag-list</th>\n",
       "      <th>watch7-headline</th>\n",
       "      <th>watch7-user-header</th>\n",
       "      <th>watch8-sentiment-actions</th>\n",
       "      <th>og:image</th>\n",
       "      <th>og:image:width</th>\n",
       "      <th>og:image:height</th>\n",
       "      <th>og:description</th>\n",
       "      <th>og:video:width</th>\n",
       "      <th>og:video:height</th>\n",
       "      <th>og:video:tag</th>\n",
       "      <th>channel_link_0</th>\n",
       "      <th>p</th>\n",
       "    </tr>\n",
       "  </thead>\n",
       "  <tbody>\n",
       "    <tr>\n",
       "      <th>505</th>\n",
       "      <td>Platform Overview - Machine Learning</td>\n",
       "      <td>NaN</td>\n",
       "      <td>4.298 visualizações</td>\n",
       "      <td>Publicado em 21 de mai. de 2019</td>\n",
       "      <td>Ciência e tecnologia</td>\n",
       "      <td>Platform Overview - Machine Learning</td>\n",
       "      <td>Google Cloud Platform\\n\\n\\n\\n\\n\\n\\n\\n\\n\\n\\n\\n\\...</td>\n",
       "      <td>4.298 visualizações\\n\\n\\n\\n\\n\\n\\n\\n141\\n\\nGost...</td>\n",
       "      <td>https://i.ytimg.com/vi/QR_LQQ-vvko/maxresdefau...</td>\n",
       "      <td>1280.0</td>\n",
       "      <td>720.0</td>\n",
       "      <td>In this short GCP Essentials video, see how GC...</td>\n",
       "      <td>1280.0</td>\n",
       "      <td>720.0</td>\n",
       "      <td>Alexis Moussine Pouchkine</td>\n",
       "      <td>/channel/UCJS9pqu9BzkAMNTmzNMNhvg</td>\n",
       "      <td>0.502</td>\n",
       "    </tr>\n",
       "    <tr>\n",
       "      <th>507</th>\n",
       "      <td>Kaggle Meetup: Ship Detection Challenge</td>\n",
       "      <td>NaN</td>\n",
       "      <td>504 visualizações</td>\n",
       "      <td>Publicado em 30 de nov. de 2018</td>\n",
       "      <td>Ciência e tecnologia</td>\n",
       "      <td>Kaggle Meetup: Ship Detection Challenge</td>\n",
       "      <td>Learn Data Science\\n\\n\\n\\n\\n\\n\\n\\n\\n\\n\\n\\n\\n\\n...</td>\n",
       "      <td>504 visualizações\\n\\n\\n\\n\\n\\n\\n\\n9\\n\\nGostou d...</td>\n",
       "      <td>https://i.ytimg.com/vi/QXEy4rdLsDw/maxresdefau...</td>\n",
       "      <td>1280.0</td>\n",
       "      <td>720.0</td>\n",
       "      <td>Video from the 2018-11-29 meetup. Kaggle page:...</td>\n",
       "      <td>1280.0</td>\n",
       "      <td>720.0</td>\n",
       "      <td>learn data science</td>\n",
       "      <td>/channel/UCJhW_16uxALr0X4olEW2p5A</td>\n",
       "      <td>0.455</td>\n",
       "    </tr>\n",
       "    <tr>\n",
       "      <th>519</th>\n",
       "      <td>flowlightさん『TalkingData AdTracking Fraud Detec...</td>\n",
       "      <td>NaN</td>\n",
       "      <td>1.707 visualizações</td>\n",
       "      <td>Publicado em 12 de mai. de 2018</td>\n",
       "      <td>Pessoas e blogs</td>\n",
       "      <td>flowlightさん『TalkingData AdTracking Fraud Detec...</td>\n",
       "      <td>Takami Sato\\n\\n\\n\\n\\n\\n\\n\\n\\n\\n\\n\\n\\n\\nCarrega...</td>\n",
       "      <td>1.707 visualizações\\n\\n\\n\\n\\n\\n\\n\\n17\\n\\nGosto...</td>\n",
       "      <td>https://i.ytimg.com/vi/RKXUEJVJJ-o/maxresdefau...</td>\n",
       "      <td>1280.0</td>\n",
       "      <td>720.0</td>\n",
       "      <td>資料 https://www.slideshare.net/TakanoriHayashi3...</td>\n",
       "      <td>1280.0</td>\n",
       "      <td>720.0</td>\n",
       "      <td>kaggle</td>\n",
       "      <td>/channel/UCiECS_auJLNpFsvjTi1WuxQ</td>\n",
       "      <td>0.283</td>\n",
       "    </tr>\n",
       "    <tr>\n",
       "      <th>527</th>\n",
       "      <td>Reinforcement Learning with TensorFlow and Uni...</td>\n",
       "      <td>NaN</td>\n",
       "      <td>545 visualizações</td>\n",
       "      <td>Publicado em 22 de nov. de 2019</td>\n",
       "      <td>Ciência e tecnologia</td>\n",
       "      <td>Reinforcement Learning with TensorFlow and Uni...</td>\n",
       "      <td>Google Developers\\n\\n\\n\\n\\n\\n\\n\\n\\n\\n\\n\\n\\n\\n\\...</td>\n",
       "      <td>545 visualizações\\n\\n\\n\\n\\n\\n\\n\\n13\\n\\nGostou ...</td>\n",
       "      <td>https://i.ytimg.com/vi/S-MbpQiwfls/maxresdefau...</td>\n",
       "      <td>1280.0</td>\n",
       "      <td>720.0</td>\n",
       "      <td>Dan Goncharov, Head of 42 Robotics GDG Fremont...</td>\n",
       "      <td>1280.0</td>\n",
       "      <td>720.0</td>\n",
       "      <td>Dan Goncharov</td>\n",
       "      <td>/channel/UC_x5XG1OV2P6uZZ5FSM9Ttw</td>\n",
       "      <td>0.261</td>\n",
       "    </tr>\n",
       "    <tr>\n",
       "      <th>535</th>\n",
       "      <td>Identifying art through machine learning at MoMA</td>\n",
       "      <td>NaN</td>\n",
       "      <td>9.476 visualizações</td>\n",
       "      <td>Publicado em 7 de mar. de 2018</td>\n",
       "      <td>Entretenimento</td>\n",
       "      <td>#MachineLearning #Musuem #Art\\n\\n\\n\\n    Ident...</td>\n",
       "      <td>Google Arts &amp; Culture\\n\\n\\n\\n\\n\\n\\n\\n\\n\\n\\n\\n\\...</td>\n",
       "      <td>9.476 visualizações\\n\\n\\n\\n\\n\\n\\n\\n49\\n\\nGosto...</td>\n",
       "      <td>https://i.ytimg.com/vi/SLBqVOnn9Mo/maxresdefau...</td>\n",
       "      <td>1280.0</td>\n",
       "      <td>720.0</td>\n",
       "      <td>The Art Recognizer, built in collaboration wit...</td>\n",
       "      <td>1280.0</td>\n",
       "      <td>720.0</td>\n",
       "      <td>museum of modern art</td>\n",
       "      <td>/channel/UCGn7dlcAmH44GqycKa_3ssA</td>\n",
       "      <td>0.510</td>\n",
       "    </tr>\n",
       "    <tr>\n",
       "      <th>...</th>\n",
       "      <td>...</td>\n",
       "      <td>...</td>\n",
       "      <td>...</td>\n",
       "      <td>...</td>\n",
       "      <td>...</td>\n",
       "      <td>...</td>\n",
       "      <td>...</td>\n",
       "      <td>...</td>\n",
       "      <td>...</td>\n",
       "      <td>...</td>\n",
       "      <td>...</td>\n",
       "      <td>...</td>\n",
       "      <td>...</td>\n",
       "      <td>...</td>\n",
       "      <td>...</td>\n",
       "      <td>...</td>\n",
       "      <td>...</td>\n",
       "    </tr>\n",
       "    <tr>\n",
       "      <th>1120</th>\n",
       "      <td>Recognizing Students at Risk of Dropping Out -...</td>\n",
       "      <td>NaN</td>\n",
       "      <td>5 visualizações</td>\n",
       "      <td>Publicado em 24 de nov. de 2019</td>\n",
       "      <td>SME, WMG (em nome de WM Spain); LatinAutor, CM...</td>\n",
       "      <td>Recognizing Students at Risk of Dropping Out -...</td>\n",
       "      <td>Joe Spaeth\\n\\n\\n\\n\\n\\n\\n\\n\\n\\n\\n\\n\\n\\nCarregan...</td>\n",
       "      <td>5 visualizações\\n\\n\\n\\n\\n\\n\\n\\n0\\n\\nGostou des...</td>\n",
       "      <td>https://i.ytimg.com/vi/w104zCQNB38/maxresdefau...</td>\n",
       "      <td>1280.0</td>\n",
       "      <td>720.0</td>\n",
       "      <td>ML4VA project by Anna Spearman, Noah Collins, ...</td>\n",
       "      <td>1280.0</td>\n",
       "      <td>720.0</td>\n",
       "      <td>NaN</td>\n",
       "      <td>/channel/UCZDNp9Zik3T8DjKzarPlDpQ</td>\n",
       "      <td>0.285</td>\n",
       "    </tr>\n",
       "    <tr>\n",
       "      <th>1136</th>\n",
       "      <td>Real Stories from Career Switchers | CareerCon...</td>\n",
       "      <td>NaN</td>\n",
       "      <td>531 visualizações</td>\n",
       "      <td>Publicado em 15 de ago. de 2019</td>\n",
       "      <td>Ciência e tecnologia</td>\n",
       "      <td>Real Stories from Career Switchers | CareerCon...</td>\n",
       "      <td>Kaggle\\n\\n\\n\\n\\n\\n\\n\\n\\n\\n\\n\\n\\n\\nCarregando.....</td>\n",
       "      <td>531 visualizações\\n\\n\\n\\n\\n\\n\\n\\n24\\n\\nGostou ...</td>\n",
       "      <td>https://i.ytimg.com/vi/wyU9GTKSO0g/maxresdefau...</td>\n",
       "      <td>1280.0</td>\n",
       "      <td>720.0</td>\n",
       "      <td>\"Listen to a panel of speakers who successfull...</td>\n",
       "      <td>1280.0</td>\n",
       "      <td>720.0</td>\n",
       "      <td>careercon</td>\n",
       "      <td>/channel/UCSNeZleDn9c74yQc-EKnVTA</td>\n",
       "      <td>0.447</td>\n",
       "    </tr>\n",
       "    <tr>\n",
       "      <th>1138</th>\n",
       "      <td>NIPS 2017 Test of Time Award \"Machine learning...</td>\n",
       "      <td>NaN</td>\n",
       "      <td>13.474 visualizações</td>\n",
       "      <td>Publicado em 7 de mar. de 2018</td>\n",
       "      <td>Educação</td>\n",
       "      <td>NIPS 2017 Test of Time Award \"Machine learning...</td>\n",
       "      <td>Preserve Knowledge\\n\\n\\n\\n\\n\\n\\n\\n\\n\\n\\n\\n\\n\\n...</td>\n",
       "      <td>13.474 visualizações\\n\\n\\n\\n\\n\\n\\n\\n138\\n\\nGos...</td>\n",
       "      <td>https://i.ytimg.com/vi/x7psGHgatGM/maxresdefau...</td>\n",
       "      <td>1280.0</td>\n",
       "      <td>720.0</td>\n",
       "      <td></td>\n",
       "      <td>1280.0</td>\n",
       "      <td>720.0</td>\n",
       "      <td>NIPS 2017</td>\n",
       "      <td>/channel/UC9p_wQs8b8SHvfJSuuxEnvw</td>\n",
       "      <td>0.372</td>\n",
       "    </tr>\n",
       "    <tr>\n",
       "      <th>1168</th>\n",
       "      <td>Learn Deep Learning Online from IBM</td>\n",
       "      <td>NaN</td>\n",
       "      <td>3.641 visualizações</td>\n",
       "      <td>Publicado em 9 de mai. de 2019</td>\n",
       "      <td>Educação</td>\n",
       "      <td>Learn Deep Learning Online from IBM</td>\n",
       "      <td>edX\\n\\n\\n\\n\\n\\n\\n\\n\\n\\n\\n\\n\\n\\n\\nCarregando......</td>\n",
       "      <td>3.641 visualizações\\n\\n\\n\\n\\n\\n\\n\\n52\\n\\nGosto...</td>\n",
       "      <td>https://i.ytimg.com/vi/z7LyERPn0o4/maxresdefau...</td>\n",
       "      <td>1280.0</td>\n",
       "      <td>720.0</td>\n",
       "      <td>Welcome to the course Deep Learning Fundamenta...</td>\n",
       "      <td>960.0</td>\n",
       "      <td>720.0</td>\n",
       "      <td>learn machine learning for free</td>\n",
       "      <td>/channel/UC67Vc0fkLYeUPBp1f02VY9Q</td>\n",
       "      <td>0.290</td>\n",
       "    </tr>\n",
       "    <tr>\n",
       "      <th>1176</th>\n",
       "      <td>Using Google's Data and AI Technologies with K...</td>\n",
       "      <td>NaN</td>\n",
       "      <td>727 visualizações</td>\n",
       "      <td>Publicado em 24 de abr. de 2019</td>\n",
       "      <td>Ciência e tecnologia</td>\n",
       "      <td>Using Google's Data and AI Technologies with K...</td>\n",
       "      <td>Google Cloud Platform\\n\\n\\n\\n\\n\\n\\n\\n\\n\\n\\n\\n\\...</td>\n",
       "      <td>727 visualizações\\n\\n\\n\\n\\n\\n\\n\\n17\\n\\nGostou ...</td>\n",
       "      <td>https://i.ytimg.com/vi/zPR3upTfMSI/maxresdefau...</td>\n",
       "      <td>1280.0</td>\n",
       "      <td>720.0</td>\n",
       "      <td>Kaggle is the world's largest community of dat...</td>\n",
       "      <td>1280.0</td>\n",
       "      <td>720.0</td>\n",
       "      <td>official</td>\n",
       "      <td>/channel/UCJS9pqu9BzkAMNTmzNMNhvg</td>\n",
       "      <td>0.284</td>\n",
       "    </tr>\n",
       "  </tbody>\n",
       "</table>\n",
       "<p>69 rows × 17 columns</p>\n",
       "</div>"
      ],
      "text/plain": [
       "                                            watch-title   y  \\\n",
       "505                Platform Overview - Machine Learning NaN   \n",
       "507             Kaggle Meetup: Ship Detection Challenge NaN   \n",
       "519   flowlightさん『TalkingData AdTracking Fraud Detec... NaN   \n",
       "527   Reinforcement Learning with TensorFlow and Uni... NaN   \n",
       "535    Identifying art through machine learning at MoMA NaN   \n",
       "...                                                 ...  ..   \n",
       "1120  Recognizing Students at Risk of Dropping Out -... NaN   \n",
       "1136  Real Stories from Career Switchers | CareerCon... NaN   \n",
       "1138  NIPS 2017 Test of Time Award \"Machine learning... NaN   \n",
       "1168                Learn Deep Learning Online from IBM NaN   \n",
       "1176  Using Google's Data and AI Technologies with K... NaN   \n",
       "\n",
       "          watch-view-count                  watch-time-text  \\\n",
       "505    4.298 visualizações  Publicado em 21 de mai. de 2019   \n",
       "507      504 visualizações  Publicado em 30 de nov. de 2018   \n",
       "519    1.707 visualizações  Publicado em 12 de mai. de 2018   \n",
       "527      545 visualizações  Publicado em 22 de nov. de 2019   \n",
       "535    9.476 visualizações   Publicado em 7 de mar. de 2018   \n",
       "...                    ...                              ...   \n",
       "1120       5 visualizações  Publicado em 24 de nov. de 2019   \n",
       "1136     531 visualizações  Publicado em 15 de ago. de 2019   \n",
       "1138  13.474 visualizações   Publicado em 7 de mar. de 2018   \n",
       "1168   3.641 visualizações   Publicado em 9 de mai. de 2019   \n",
       "1176     727 visualizações  Publicado em 24 de abr. de 2019   \n",
       "\n",
       "                            content_watch-info-tag-list  \\\n",
       "505                                Ciência e tecnologia   \n",
       "507                                Ciência e tecnologia   \n",
       "519                                     Pessoas e blogs   \n",
       "527                                Ciência e tecnologia   \n",
       "535                                      Entretenimento   \n",
       "...                                                 ...   \n",
       "1120  SME, WMG (em nome de WM Spain); LatinAutor, CM...   \n",
       "1136                               Ciência e tecnologia   \n",
       "1138                                           Educação   \n",
       "1168                                           Educação   \n",
       "1176                               Ciência e tecnologia   \n",
       "\n",
       "                                        watch7-headline  \\\n",
       "505                Platform Overview - Machine Learning   \n",
       "507             Kaggle Meetup: Ship Detection Challenge   \n",
       "519   flowlightさん『TalkingData AdTracking Fraud Detec...   \n",
       "527   Reinforcement Learning with TensorFlow and Uni...   \n",
       "535   #MachineLearning #Musuem #Art\\n\\n\\n\\n    Ident...   \n",
       "...                                                 ...   \n",
       "1120  Recognizing Students at Risk of Dropping Out -...   \n",
       "1136  Real Stories from Career Switchers | CareerCon...   \n",
       "1138  NIPS 2017 Test of Time Award \"Machine learning...   \n",
       "1168                Learn Deep Learning Online from IBM   \n",
       "1176  Using Google's Data and AI Technologies with K...   \n",
       "\n",
       "                                     watch7-user-header  \\\n",
       "505   Google Cloud Platform\\n\\n\\n\\n\\n\\n\\n\\n\\n\\n\\n\\n\\...   \n",
       "507   Learn Data Science\\n\\n\\n\\n\\n\\n\\n\\n\\n\\n\\n\\n\\n\\n...   \n",
       "519   Takami Sato\\n\\n\\n\\n\\n\\n\\n\\n\\n\\n\\n\\n\\n\\nCarrega...   \n",
       "527   Google Developers\\n\\n\\n\\n\\n\\n\\n\\n\\n\\n\\n\\n\\n\\n\\...   \n",
       "535   Google Arts & Culture\\n\\n\\n\\n\\n\\n\\n\\n\\n\\n\\n\\n\\...   \n",
       "...                                                 ...   \n",
       "1120  Joe Spaeth\\n\\n\\n\\n\\n\\n\\n\\n\\n\\n\\n\\n\\n\\nCarregan...   \n",
       "1136  Kaggle\\n\\n\\n\\n\\n\\n\\n\\n\\n\\n\\n\\n\\n\\nCarregando.....   \n",
       "1138  Preserve Knowledge\\n\\n\\n\\n\\n\\n\\n\\n\\n\\n\\n\\n\\n\\n...   \n",
       "1168  edX\\n\\n\\n\\n\\n\\n\\n\\n\\n\\n\\n\\n\\n\\n\\nCarregando......   \n",
       "1176  Google Cloud Platform\\n\\n\\n\\n\\n\\n\\n\\n\\n\\n\\n\\n\\...   \n",
       "\n",
       "                               watch8-sentiment-actions  \\\n",
       "505   4.298 visualizações\\n\\n\\n\\n\\n\\n\\n\\n141\\n\\nGost...   \n",
       "507   504 visualizações\\n\\n\\n\\n\\n\\n\\n\\n9\\n\\nGostou d...   \n",
       "519   1.707 visualizações\\n\\n\\n\\n\\n\\n\\n\\n17\\n\\nGosto...   \n",
       "527   545 visualizações\\n\\n\\n\\n\\n\\n\\n\\n13\\n\\nGostou ...   \n",
       "535   9.476 visualizações\\n\\n\\n\\n\\n\\n\\n\\n49\\n\\nGosto...   \n",
       "...                                                 ...   \n",
       "1120  5 visualizações\\n\\n\\n\\n\\n\\n\\n\\n0\\n\\nGostou des...   \n",
       "1136  531 visualizações\\n\\n\\n\\n\\n\\n\\n\\n24\\n\\nGostou ...   \n",
       "1138  13.474 visualizações\\n\\n\\n\\n\\n\\n\\n\\n138\\n\\nGos...   \n",
       "1168  3.641 visualizações\\n\\n\\n\\n\\n\\n\\n\\n52\\n\\nGosto...   \n",
       "1176  727 visualizações\\n\\n\\n\\n\\n\\n\\n\\n17\\n\\nGostou ...   \n",
       "\n",
       "                                               og:image  og:image:width  \\\n",
       "505   https://i.ytimg.com/vi/QR_LQQ-vvko/maxresdefau...          1280.0   \n",
       "507   https://i.ytimg.com/vi/QXEy4rdLsDw/maxresdefau...          1280.0   \n",
       "519   https://i.ytimg.com/vi/RKXUEJVJJ-o/maxresdefau...          1280.0   \n",
       "527   https://i.ytimg.com/vi/S-MbpQiwfls/maxresdefau...          1280.0   \n",
       "535   https://i.ytimg.com/vi/SLBqVOnn9Mo/maxresdefau...          1280.0   \n",
       "...                                                 ...             ...   \n",
       "1120  https://i.ytimg.com/vi/w104zCQNB38/maxresdefau...          1280.0   \n",
       "1136  https://i.ytimg.com/vi/wyU9GTKSO0g/maxresdefau...          1280.0   \n",
       "1138  https://i.ytimg.com/vi/x7psGHgatGM/maxresdefau...          1280.0   \n",
       "1168  https://i.ytimg.com/vi/z7LyERPn0o4/maxresdefau...          1280.0   \n",
       "1176  https://i.ytimg.com/vi/zPR3upTfMSI/maxresdefau...          1280.0   \n",
       "\n",
       "      og:image:height                                     og:description  \\\n",
       "505             720.0  In this short GCP Essentials video, see how GC...   \n",
       "507             720.0  Video from the 2018-11-29 meetup. Kaggle page:...   \n",
       "519             720.0  資料 https://www.slideshare.net/TakanoriHayashi3...   \n",
       "527             720.0  Dan Goncharov, Head of 42 Robotics GDG Fremont...   \n",
       "535             720.0  The Art Recognizer, built in collaboration wit...   \n",
       "...               ...                                                ...   \n",
       "1120            720.0  ML4VA project by Anna Spearman, Noah Collins, ...   \n",
       "1136            720.0  \"Listen to a panel of speakers who successfull...   \n",
       "1138            720.0                                                      \n",
       "1168            720.0  Welcome to the course Deep Learning Fundamenta...   \n",
       "1176            720.0  Kaggle is the world's largest community of dat...   \n",
       "\n",
       "      og:video:width  og:video:height                     og:video:tag  \\\n",
       "505           1280.0            720.0        Alexis Moussine Pouchkine   \n",
       "507           1280.0            720.0               learn data science   \n",
       "519           1280.0            720.0                           kaggle   \n",
       "527           1280.0            720.0                    Dan Goncharov   \n",
       "535           1280.0            720.0             museum of modern art   \n",
       "...              ...              ...                              ...   \n",
       "1120          1280.0            720.0                              NaN   \n",
       "1136          1280.0            720.0                        careercon   \n",
       "1138          1280.0            720.0                        NIPS 2017   \n",
       "1168           960.0            720.0  learn machine learning for free   \n",
       "1176          1280.0            720.0                         official   \n",
       "\n",
       "                         channel_link_0      p  \n",
       "505   /channel/UCJS9pqu9BzkAMNTmzNMNhvg  0.502  \n",
       "507   /channel/UCJhW_16uxALr0X4olEW2p5A  0.455  \n",
       "519   /channel/UCiECS_auJLNpFsvjTi1WuxQ  0.283  \n",
       "527   /channel/UC_x5XG1OV2P6uZZ5FSM9Ttw  0.261  \n",
       "535   /channel/UCGn7dlcAmH44GqycKa_3ssA  0.510  \n",
       "...                                 ...    ...  \n",
       "1120  /channel/UCZDNp9Zik3T8DjKzarPlDpQ  0.285  \n",
       "1136  /channel/UCSNeZleDn9c74yQc-EKnVTA  0.447  \n",
       "1138  /channel/UC9p_wQs8b8SHvfJSuuxEnvw  0.372  \n",
       "1168  /channel/UC67Vc0fkLYeUPBp1f02VY9Q  0.290  \n",
       "1176  /channel/UCJS9pqu9BzkAMNTmzNMNhvg  0.284  \n",
       "\n",
       "[69 rows x 17 columns]"
      ]
     },
     "execution_count": 56,
     "metadata": {},
     "output_type": "execute_result"
    }
   ],
   "source": [
    "df_unlabeled[mask_u]#.sort_values(\"p\")"
   ]
  },
  {
   "cell_type": "code",
   "execution_count": 57,
   "metadata": {},
   "outputs": [],
   "source": [
    "dificeis = df_unlabeled[mask_u]"
   ]
  },
  {
   "cell_type": "code",
   "execution_count": 58,
   "metadata": {},
   "outputs": [],
   "source": [
    "aleatorios = df_unlabeled[~mask_u].sample(31, random_state=0)"
   ]
  },
  {
   "cell_type": "code",
   "execution_count": 59,
   "metadata": {},
   "outputs": [],
   "source": [
    "pd.concat([dificeis, aleatorios]).to_csv(\"active_label1.csv\")"
   ]
  },
  {
   "cell_type": "code",
   "execution_count": 60,
   "metadata": {},
   "outputs": [
    {
     "data": {
      "text/html": [
       "<div>\n",
       "<style scoped>\n",
       "    .dataframe tbody tr th:only-of-type {\n",
       "        vertical-align: middle;\n",
       "    }\n",
       "\n",
       "    .dataframe tbody tr th {\n",
       "        vertical-align: top;\n",
       "    }\n",
       "\n",
       "    .dataframe thead th {\n",
       "        text-align: right;\n",
       "    }\n",
       "</style>\n",
       "<table border=\"1\" class=\"dataframe\">\n",
       "  <thead>\n",
       "    <tr style=\"text-align: right;\">\n",
       "      <th></th>\n",
       "      <th>watch-title</th>\n",
       "      <th>y</th>\n",
       "      <th>watch-view-count</th>\n",
       "      <th>watch-time-text</th>\n",
       "      <th>content_watch-info-tag-list</th>\n",
       "      <th>watch7-headline</th>\n",
       "      <th>watch7-user-header</th>\n",
       "      <th>watch8-sentiment-actions</th>\n",
       "      <th>og:image</th>\n",
       "      <th>og:image:width</th>\n",
       "      <th>og:image:height</th>\n",
       "      <th>og:description</th>\n",
       "      <th>og:video:width</th>\n",
       "      <th>og:video:height</th>\n",
       "      <th>og:video:tag</th>\n",
       "      <th>channel_link_0</th>\n",
       "      <th>p</th>\n",
       "    </tr>\n",
       "  </thead>\n",
       "  <tbody>\n",
       "    <tr>\n",
       "      <th>505</th>\n",
       "      <td>Platform Overview - Machine Learning</td>\n",
       "      <td>NaN</td>\n",
       "      <td>4.298 visualizações</td>\n",
       "      <td>Publicado em 21 de mai. de 2019</td>\n",
       "      <td>Ciência e tecnologia</td>\n",
       "      <td>Platform Overview - Machine Learning</td>\n",
       "      <td>Google Cloud Platform\\n\\n\\n\\n\\n\\n\\n\\n\\n\\n\\n\\n\\...</td>\n",
       "      <td>4.298 visualizações\\n\\n\\n\\n\\n\\n\\n\\n141\\n\\nGost...</td>\n",
       "      <td>https://i.ytimg.com/vi/QR_LQQ-vvko/maxresdefau...</td>\n",
       "      <td>1280.0</td>\n",
       "      <td>720.0</td>\n",
       "      <td>In this short GCP Essentials video, see how GC...</td>\n",
       "      <td>1280.0</td>\n",
       "      <td>720.0</td>\n",
       "      <td>Alexis Moussine Pouchkine</td>\n",
       "      <td>/channel/UCJS9pqu9BzkAMNTmzNMNhvg</td>\n",
       "      <td>0.502</td>\n",
       "    </tr>\n",
       "    <tr>\n",
       "      <th>507</th>\n",
       "      <td>Kaggle Meetup: Ship Detection Challenge</td>\n",
       "      <td>NaN</td>\n",
       "      <td>504 visualizações</td>\n",
       "      <td>Publicado em 30 de nov. de 2018</td>\n",
       "      <td>Ciência e tecnologia</td>\n",
       "      <td>Kaggle Meetup: Ship Detection Challenge</td>\n",
       "      <td>Learn Data Science\\n\\n\\n\\n\\n\\n\\n\\n\\n\\n\\n\\n\\n\\n...</td>\n",
       "      <td>504 visualizações\\n\\n\\n\\n\\n\\n\\n\\n9\\n\\nGostou d...</td>\n",
       "      <td>https://i.ytimg.com/vi/QXEy4rdLsDw/maxresdefau...</td>\n",
       "      <td>1280.0</td>\n",
       "      <td>720.0</td>\n",
       "      <td>Video from the 2018-11-29 meetup. Kaggle page:...</td>\n",
       "      <td>1280.0</td>\n",
       "      <td>720.0</td>\n",
       "      <td>learn data science</td>\n",
       "      <td>/channel/UCJhW_16uxALr0X4olEW2p5A</td>\n",
       "      <td>0.455</td>\n",
       "    </tr>\n",
       "    <tr>\n",
       "      <th>519</th>\n",
       "      <td>flowlightさん『TalkingData AdTracking Fraud Detec...</td>\n",
       "      <td>NaN</td>\n",
       "      <td>1.707 visualizações</td>\n",
       "      <td>Publicado em 12 de mai. de 2018</td>\n",
       "      <td>Pessoas e blogs</td>\n",
       "      <td>flowlightさん『TalkingData AdTracking Fraud Detec...</td>\n",
       "      <td>Takami Sato\\n\\n\\n\\n\\n\\n\\n\\n\\n\\n\\n\\n\\n\\nCarrega...</td>\n",
       "      <td>1.707 visualizações\\n\\n\\n\\n\\n\\n\\n\\n17\\n\\nGosto...</td>\n",
       "      <td>https://i.ytimg.com/vi/RKXUEJVJJ-o/maxresdefau...</td>\n",
       "      <td>1280.0</td>\n",
       "      <td>720.0</td>\n",
       "      <td>資料 https://www.slideshare.net/TakanoriHayashi3...</td>\n",
       "      <td>1280.0</td>\n",
       "      <td>720.0</td>\n",
       "      <td>kaggle</td>\n",
       "      <td>/channel/UCiECS_auJLNpFsvjTi1WuxQ</td>\n",
       "      <td>0.283</td>\n",
       "    </tr>\n",
       "    <tr>\n",
       "      <th>527</th>\n",
       "      <td>Reinforcement Learning with TensorFlow and Uni...</td>\n",
       "      <td>NaN</td>\n",
       "      <td>545 visualizações</td>\n",
       "      <td>Publicado em 22 de nov. de 2019</td>\n",
       "      <td>Ciência e tecnologia</td>\n",
       "      <td>Reinforcement Learning with TensorFlow and Uni...</td>\n",
       "      <td>Google Developers\\n\\n\\n\\n\\n\\n\\n\\n\\n\\n\\n\\n\\n\\n\\...</td>\n",
       "      <td>545 visualizações\\n\\n\\n\\n\\n\\n\\n\\n13\\n\\nGostou ...</td>\n",
       "      <td>https://i.ytimg.com/vi/S-MbpQiwfls/maxresdefau...</td>\n",
       "      <td>1280.0</td>\n",
       "      <td>720.0</td>\n",
       "      <td>Dan Goncharov, Head of 42 Robotics GDG Fremont...</td>\n",
       "      <td>1280.0</td>\n",
       "      <td>720.0</td>\n",
       "      <td>Dan Goncharov</td>\n",
       "      <td>/channel/UC_x5XG1OV2P6uZZ5FSM9Ttw</td>\n",
       "      <td>0.261</td>\n",
       "    </tr>\n",
       "    <tr>\n",
       "      <th>535</th>\n",
       "      <td>Identifying art through machine learning at MoMA</td>\n",
       "      <td>NaN</td>\n",
       "      <td>9.476 visualizações</td>\n",
       "      <td>Publicado em 7 de mar. de 2018</td>\n",
       "      <td>Entretenimento</td>\n",
       "      <td>#MachineLearning #Musuem #Art\\n\\n\\n\\n    Ident...</td>\n",
       "      <td>Google Arts &amp; Culture\\n\\n\\n\\n\\n\\n\\n\\n\\n\\n\\n\\n\\...</td>\n",
       "      <td>9.476 visualizações\\n\\n\\n\\n\\n\\n\\n\\n49\\n\\nGosto...</td>\n",
       "      <td>https://i.ytimg.com/vi/SLBqVOnn9Mo/maxresdefau...</td>\n",
       "      <td>1280.0</td>\n",
       "      <td>720.0</td>\n",
       "      <td>The Art Recognizer, built in collaboration wit...</td>\n",
       "      <td>1280.0</td>\n",
       "      <td>720.0</td>\n",
       "      <td>museum of modern art</td>\n",
       "      <td>/channel/UCGn7dlcAmH44GqycKa_3ssA</td>\n",
       "      <td>0.510</td>\n",
       "    </tr>\n",
       "  </tbody>\n",
       "</table>\n",
       "</div>"
      ],
      "text/plain": [
       "                                           watch-title   y  \\\n",
       "505               Platform Overview - Machine Learning NaN   \n",
       "507            Kaggle Meetup: Ship Detection Challenge NaN   \n",
       "519  flowlightさん『TalkingData AdTracking Fraud Detec... NaN   \n",
       "527  Reinforcement Learning with TensorFlow and Uni... NaN   \n",
       "535   Identifying art through machine learning at MoMA NaN   \n",
       "\n",
       "        watch-view-count                  watch-time-text  \\\n",
       "505  4.298 visualizações  Publicado em 21 de mai. de 2019   \n",
       "507    504 visualizações  Publicado em 30 de nov. de 2018   \n",
       "519  1.707 visualizações  Publicado em 12 de mai. de 2018   \n",
       "527    545 visualizações  Publicado em 22 de nov. de 2019   \n",
       "535  9.476 visualizações   Publicado em 7 de mar. de 2018   \n",
       "\n",
       "    content_watch-info-tag-list  \\\n",
       "505        Ciência e tecnologia   \n",
       "507        Ciência e tecnologia   \n",
       "519             Pessoas e blogs   \n",
       "527        Ciência e tecnologia   \n",
       "535              Entretenimento   \n",
       "\n",
       "                                       watch7-headline  \\\n",
       "505               Platform Overview - Machine Learning   \n",
       "507            Kaggle Meetup: Ship Detection Challenge   \n",
       "519  flowlightさん『TalkingData AdTracking Fraud Detec...   \n",
       "527  Reinforcement Learning with TensorFlow and Uni...   \n",
       "535  #MachineLearning #Musuem #Art\\n\\n\\n\\n    Ident...   \n",
       "\n",
       "                                    watch7-user-header  \\\n",
       "505  Google Cloud Platform\\n\\n\\n\\n\\n\\n\\n\\n\\n\\n\\n\\n\\...   \n",
       "507  Learn Data Science\\n\\n\\n\\n\\n\\n\\n\\n\\n\\n\\n\\n\\n\\n...   \n",
       "519  Takami Sato\\n\\n\\n\\n\\n\\n\\n\\n\\n\\n\\n\\n\\n\\nCarrega...   \n",
       "527  Google Developers\\n\\n\\n\\n\\n\\n\\n\\n\\n\\n\\n\\n\\n\\n\\...   \n",
       "535  Google Arts & Culture\\n\\n\\n\\n\\n\\n\\n\\n\\n\\n\\n\\n\\...   \n",
       "\n",
       "                              watch8-sentiment-actions  \\\n",
       "505  4.298 visualizações\\n\\n\\n\\n\\n\\n\\n\\n141\\n\\nGost...   \n",
       "507  504 visualizações\\n\\n\\n\\n\\n\\n\\n\\n9\\n\\nGostou d...   \n",
       "519  1.707 visualizações\\n\\n\\n\\n\\n\\n\\n\\n17\\n\\nGosto...   \n",
       "527  545 visualizações\\n\\n\\n\\n\\n\\n\\n\\n13\\n\\nGostou ...   \n",
       "535  9.476 visualizações\\n\\n\\n\\n\\n\\n\\n\\n49\\n\\nGosto...   \n",
       "\n",
       "                                              og:image  og:image:width  \\\n",
       "505  https://i.ytimg.com/vi/QR_LQQ-vvko/maxresdefau...          1280.0   \n",
       "507  https://i.ytimg.com/vi/QXEy4rdLsDw/maxresdefau...          1280.0   \n",
       "519  https://i.ytimg.com/vi/RKXUEJVJJ-o/maxresdefau...          1280.0   \n",
       "527  https://i.ytimg.com/vi/S-MbpQiwfls/maxresdefau...          1280.0   \n",
       "535  https://i.ytimg.com/vi/SLBqVOnn9Mo/maxresdefau...          1280.0   \n",
       "\n",
       "     og:image:height                                     og:description  \\\n",
       "505            720.0  In this short GCP Essentials video, see how GC...   \n",
       "507            720.0  Video from the 2018-11-29 meetup. Kaggle page:...   \n",
       "519            720.0  資料 https://www.slideshare.net/TakanoriHayashi3...   \n",
       "527            720.0  Dan Goncharov, Head of 42 Robotics GDG Fremont...   \n",
       "535            720.0  The Art Recognizer, built in collaboration wit...   \n",
       "\n",
       "     og:video:width  og:video:height               og:video:tag  \\\n",
       "505          1280.0            720.0  Alexis Moussine Pouchkine   \n",
       "507          1280.0            720.0         learn data science   \n",
       "519          1280.0            720.0                     kaggle   \n",
       "527          1280.0            720.0              Dan Goncharov   \n",
       "535          1280.0            720.0       museum of modern art   \n",
       "\n",
       "                        channel_link_0      p  \n",
       "505  /channel/UCJS9pqu9BzkAMNTmzNMNhvg  0.502  \n",
       "507  /channel/UCJhW_16uxALr0X4olEW2p5A  0.455  \n",
       "519  /channel/UCiECS_auJLNpFsvjTi1WuxQ  0.283  \n",
       "527  /channel/UC_x5XG1OV2P6uZZ5FSM9Ttw  0.261  \n",
       "535  /channel/UCGn7dlcAmH44GqycKa_3ssA  0.510  "
      ]
     },
     "execution_count": 60,
     "metadata": {},
     "output_type": "execute_result"
    }
   ],
   "source": [
    "dificeis.head()"
   ]
  },
  {
   "cell_type": "code",
   "execution_count": 61,
   "metadata": {},
   "outputs": [
    {
     "data": {
      "text/html": [
       "<div>\n",
       "<style scoped>\n",
       "    .dataframe tbody tr th:only-of-type {\n",
       "        vertical-align: middle;\n",
       "    }\n",
       "\n",
       "    .dataframe tbody tr th {\n",
       "        vertical-align: top;\n",
       "    }\n",
       "\n",
       "    .dataframe thead th {\n",
       "        text-align: right;\n",
       "    }\n",
       "</style>\n",
       "<table border=\"1\" class=\"dataframe\">\n",
       "  <thead>\n",
       "    <tr style=\"text-align: right;\">\n",
       "      <th></th>\n",
       "      <th>watch-title</th>\n",
       "      <th>y</th>\n",
       "      <th>watch-view-count</th>\n",
       "      <th>watch-time-text</th>\n",
       "      <th>content_watch-info-tag-list</th>\n",
       "      <th>watch7-headline</th>\n",
       "      <th>watch7-user-header</th>\n",
       "      <th>watch8-sentiment-actions</th>\n",
       "      <th>og:image</th>\n",
       "      <th>og:image:width</th>\n",
       "      <th>og:image:height</th>\n",
       "      <th>og:description</th>\n",
       "      <th>og:video:width</th>\n",
       "      <th>og:video:height</th>\n",
       "      <th>og:video:tag</th>\n",
       "      <th>channel_link_0</th>\n",
       "      <th>p</th>\n",
       "    </tr>\n",
       "  </thead>\n",
       "  <tbody>\n",
       "    <tr>\n",
       "      <th>1148</th>\n",
       "      <td>Machine Learning Analysis of Virginia Traffic ...</td>\n",
       "      <td>NaN</td>\n",
       "      <td>9 visualizações</td>\n",
       "      <td>Publicado em 23 de nov. de 2019</td>\n",
       "      <td>Pessoas e blogs</td>\n",
       "      <td>Machine Learning Analysis of Virginia Traffic ...</td>\n",
       "      <td>Eric Yu\\n\\n\\n\\n\\n\\n\\n\\n\\n\\n\\n\\n\\n\\nCarregando....</td>\n",
       "      <td>9 visualizações\\n\\n\\n\\n\\n\\n\\n\\n0\\n\\nGostou des...</td>\n",
       "      <td>https://i.ytimg.com/vi/xp2toRDr_Es/maxresdefau...</td>\n",
       "      <td>1280.0</td>\n",
       "      <td>720.0</td>\n",
       "      <td>UVA undergraduate machine learning project tha...</td>\n",
       "      <td>1280.0</td>\n",
       "      <td>720.0</td>\n",
       "      <td>traffic accidents</td>\n",
       "      <td>/channel/UCuXxRifoHCJ-R7VJfvqPnwQ</td>\n",
       "      <td>0.051</td>\n",
       "    </tr>\n",
       "    <tr>\n",
       "      <th>559</th>\n",
       "      <td>What's Kaggle?</td>\n",
       "      <td>NaN</td>\n",
       "      <td>38.410 visualizações</td>\n",
       "      <td>Publicado em 13 de jun. de 2019</td>\n",
       "      <td>Ciência e tecnologia</td>\n",
       "      <td>What's Kaggle?</td>\n",
       "      <td>Kaggle\\n\\n\\n\\n\\n\\n\\n\\n\\n\\n\\n\\n\\n\\nCarregando.....</td>\n",
       "      <td>38.410 visualizações\\n\\n\\n\\n\\n\\n\\n\\n126\\n\\nGos...</td>\n",
       "      <td>https://i.ytimg.com/vi/TNzDMOg_zsw/hqdefault.jpg</td>\n",
       "      <td>480.0</td>\n",
       "      <td>360.0</td>\n",
       "      <td>Stop staring at a blank cell. Kaggle makes it ...</td>\n",
       "      <td>1280.0</td>\n",
       "      <td>720.0</td>\n",
       "      <td>CS</td>\n",
       "      <td>/channel/UCSNeZleDn9c74yQc-EKnVTA</td>\n",
       "      <td>0.052</td>\n",
       "    </tr>\n",
       "    <tr>\n",
       "      <th>1097</th>\n",
       "      <td>Kaggle Predictive Modeling Competition</td>\n",
       "      <td>NaN</td>\n",
       "      <td>75 visualizações</td>\n",
       "      <td>Publicado em 10 de abr. de 2019</td>\n",
       "      <td>Pessoas e blogs</td>\n",
       "      <td>Kaggle Predictive Modeling Competition</td>\n",
       "      <td>Vishal Lala\\n\\n\\n\\n\\n\\n\\n\\n\\n\\n\\n\\n\\n\\nCarrega...</td>\n",
       "      <td>75 visualizações\\n\\n\\n\\n\\n\\n\\n\\n2\\n\\nGostou de...</td>\n",
       "      <td>https://i.ytimg.com/vi/umobFbd8wfA/maxresdefau...</td>\n",
       "      <td>1280.0</td>\n",
       "      <td>720.0</td>\n",
       "      <td>Visit https://www.kaggle.com/c/lalapaceairbnb ...</td>\n",
       "      <td>1280.0</td>\n",
       "      <td>720.0</td>\n",
       "      <td>Kaggle</td>\n",
       "      <td>/channel/UCuphBjOdP7s_PMfupmGruxw</td>\n",
       "      <td>0.133</td>\n",
       "    </tr>\n",
       "    <tr>\n",
       "      <th>889</th>\n",
       "      <td>Kaggle Live Coding: Automating report generati...</td>\n",
       "      <td>NaN</td>\n",
       "      <td>1.725 visualizações</td>\n",
       "      <td>Transmitido ao vivo em 11 de out. de 2019</td>\n",
       "      <td>Ciência e tecnologia</td>\n",
       "      <td>Kaggle Live Coding: Automating report generati...</td>\n",
       "      <td>Kaggle\\n\\n\\n\\n\\n\\n\\n\\n\\n\\n\\n\\n\\n\\nCarregando.....</td>\n",
       "      <td>1.725 visualizações\\n\\n\\n\\n\\n\\n\\n\\n66\\n\\nGosto...</td>\n",
       "      <td>https://i.ytimg.com/vi/kDzEZihQFig/hqdefault.jpg</td>\n",
       "      <td>480.0</td>\n",
       "      <td>360.0</td>\n",
       "      <td>This week Rachael will continue to work on her...</td>\n",
       "      <td>1280.0</td>\n",
       "      <td>720.0</td>\n",
       "      <td>reading group</td>\n",
       "      <td>/channel/UCSNeZleDn9c74yQc-EKnVTA</td>\n",
       "      <td>0.066</td>\n",
       "    </tr>\n",
       "    <tr>\n",
       "      <th>562</th>\n",
       "      <td>Data Science requires Patience</td>\n",
       "      <td>NaN</td>\n",
       "      <td>21 visualizações</td>\n",
       "      <td>Publicado em 24 de nov. de 2019</td>\n",
       "      <td>Pessoas e blogs</td>\n",
       "      <td>#DataScience #MachineLearning\\n\\n\\n\\n    Data ...</td>\n",
       "      <td>Przemek Chojecki\\n\\n\\n\\n\\n\\n\\n\\n\\n\\n\\n\\n\\n\\nCa...</td>\n",
       "      <td>21 visualizações\\n\\n\\n\\n\\n\\n\\n\\n2\\n\\nGostou de...</td>\n",
       "      <td>https://i.ytimg.com/vi/TU9I7lC5mXA/maxresdefau...</td>\n",
       "      <td>1280.0</td>\n",
       "      <td>720.0</td>\n",
       "      <td>Nothing comes for free, especially in technica...</td>\n",
       "      <td>1280.0</td>\n",
       "      <td>720.0</td>\n",
       "      <td>data science job</td>\n",
       "      <td>/channel/UCEq0oQsS-voRnSWbcviIDGA</td>\n",
       "      <td>0.119</td>\n",
       "    </tr>\n",
       "  </tbody>\n",
       "</table>\n",
       "</div>"
      ],
      "text/plain": [
       "                                            watch-title   y  \\\n",
       "1148  Machine Learning Analysis of Virginia Traffic ... NaN   \n",
       "559                                      What's Kaggle? NaN   \n",
       "1097             Kaggle Predictive Modeling Competition NaN   \n",
       "889   Kaggle Live Coding: Automating report generati... NaN   \n",
       "562                      Data Science requires Patience NaN   \n",
       "\n",
       "          watch-view-count                            watch-time-text  \\\n",
       "1148       9 visualizações            Publicado em 23 de nov. de 2019   \n",
       "559   38.410 visualizações            Publicado em 13 de jun. de 2019   \n",
       "1097      75 visualizações            Publicado em 10 de abr. de 2019   \n",
       "889    1.725 visualizações  Transmitido ao vivo em 11 de out. de 2019   \n",
       "562       21 visualizações            Publicado em 24 de nov. de 2019   \n",
       "\n",
       "     content_watch-info-tag-list  \\\n",
       "1148             Pessoas e blogs   \n",
       "559         Ciência e tecnologia   \n",
       "1097             Pessoas e blogs   \n",
       "889         Ciência e tecnologia   \n",
       "562              Pessoas e blogs   \n",
       "\n",
       "                                        watch7-headline  \\\n",
       "1148  Machine Learning Analysis of Virginia Traffic ...   \n",
       "559                                      What's Kaggle?   \n",
       "1097             Kaggle Predictive Modeling Competition   \n",
       "889   Kaggle Live Coding: Automating report generati...   \n",
       "562   #DataScience #MachineLearning\\n\\n\\n\\n    Data ...   \n",
       "\n",
       "                                     watch7-user-header  \\\n",
       "1148  Eric Yu\\n\\n\\n\\n\\n\\n\\n\\n\\n\\n\\n\\n\\n\\nCarregando....   \n",
       "559   Kaggle\\n\\n\\n\\n\\n\\n\\n\\n\\n\\n\\n\\n\\n\\nCarregando.....   \n",
       "1097  Vishal Lala\\n\\n\\n\\n\\n\\n\\n\\n\\n\\n\\n\\n\\n\\nCarrega...   \n",
       "889   Kaggle\\n\\n\\n\\n\\n\\n\\n\\n\\n\\n\\n\\n\\n\\nCarregando.....   \n",
       "562   Przemek Chojecki\\n\\n\\n\\n\\n\\n\\n\\n\\n\\n\\n\\n\\n\\nCa...   \n",
       "\n",
       "                               watch8-sentiment-actions  \\\n",
       "1148  9 visualizações\\n\\n\\n\\n\\n\\n\\n\\n0\\n\\nGostou des...   \n",
       "559   38.410 visualizações\\n\\n\\n\\n\\n\\n\\n\\n126\\n\\nGos...   \n",
       "1097  75 visualizações\\n\\n\\n\\n\\n\\n\\n\\n2\\n\\nGostou de...   \n",
       "889   1.725 visualizações\\n\\n\\n\\n\\n\\n\\n\\n66\\n\\nGosto...   \n",
       "562   21 visualizações\\n\\n\\n\\n\\n\\n\\n\\n2\\n\\nGostou de...   \n",
       "\n",
       "                                               og:image  og:image:width  \\\n",
       "1148  https://i.ytimg.com/vi/xp2toRDr_Es/maxresdefau...          1280.0   \n",
       "559    https://i.ytimg.com/vi/TNzDMOg_zsw/hqdefault.jpg           480.0   \n",
       "1097  https://i.ytimg.com/vi/umobFbd8wfA/maxresdefau...          1280.0   \n",
       "889    https://i.ytimg.com/vi/kDzEZihQFig/hqdefault.jpg           480.0   \n",
       "562   https://i.ytimg.com/vi/TU9I7lC5mXA/maxresdefau...          1280.0   \n",
       "\n",
       "      og:image:height                                     og:description  \\\n",
       "1148            720.0  UVA undergraduate machine learning project tha...   \n",
       "559             360.0  Stop staring at a blank cell. Kaggle makes it ...   \n",
       "1097            720.0  Visit https://www.kaggle.com/c/lalapaceairbnb ...   \n",
       "889             360.0  This week Rachael will continue to work on her...   \n",
       "562             720.0  Nothing comes for free, especially in technica...   \n",
       "\n",
       "      og:video:width  og:video:height       og:video:tag  \\\n",
       "1148          1280.0            720.0  traffic accidents   \n",
       "559           1280.0            720.0                 CS   \n",
       "1097          1280.0            720.0             Kaggle   \n",
       "889           1280.0            720.0      reading group   \n",
       "562           1280.0            720.0   data science job   \n",
       "\n",
       "                         channel_link_0      p  \n",
       "1148  /channel/UCuXxRifoHCJ-R7VJfvqPnwQ  0.051  \n",
       "559   /channel/UCSNeZleDn9c74yQc-EKnVTA  0.052  \n",
       "1097  /channel/UCuphBjOdP7s_PMfupmGruxw  0.133  \n",
       "889   /channel/UCSNeZleDn9c74yQc-EKnVTA  0.066  \n",
       "562   /channel/UCEq0oQsS-voRnSWbcviIDGA  0.119  "
      ]
     },
     "execution_count": 61,
     "metadata": {},
     "output_type": "execute_result"
    }
   ],
   "source": [
    "aleatorios.head()"
   ]
  },
  {
   "cell_type": "code",
   "execution_count": null,
   "metadata": {},
   "outputs": [],
   "source": []
  },
  {
   "cell_type": "code",
   "execution_count": null,
   "metadata": {},
   "outputs": [],
   "source": []
  }
 ],
 "metadata": {
  "kernelspec": {
   "display_name": "Python 3",
   "language": "python",
   "name": "python3"
  },
  "language_info": {
   "codemirror_mode": {
    "name": "ipython",
    "version": 3
   },
   "file_extension": ".py",
   "mimetype": "text/x-python",
   "name": "python",
   "nbconvert_exporter": "python",
   "pygments_lexer": "ipython3",
   "version": "3.7.5"
  }
 },
 "nbformat": 4,
 "nbformat_minor": 4
}
